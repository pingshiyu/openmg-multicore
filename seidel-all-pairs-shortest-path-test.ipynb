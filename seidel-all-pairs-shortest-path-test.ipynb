{
 "cells": [
  {
   "cell_type": "code",
   "execution_count": 1,
   "metadata": {},
   "outputs": [],
   "source": [
    "from numpy import matrix, array"
   ]
  },
  {
   "cell_type": "code",
   "execution_count": 2,
   "metadata": {},
   "outputs": [],
   "source": [
    "def apd(A, n: int):\n",
    "    \"\"\"Compute the shortest-paths lengths.\"\"\"\n",
    "    if all(A[i][j] for i in range(n) for j in range(n) if i != j):\n",
    "        return A\n",
    "    Z = A @ A\n",
    "    B = array([\n",
    "        [1 if i != j and (A[i][j] == 1 or Z[i][j] > 0) else 0 for j in range(n)] for i in range(n)])\n",
    "    T = apd(B, n)\n",
    "    X = T @ A\n",
    "    degree = [sum(A[i][j] for j in range(n)) for i in range(n)]\n",
    "    D = array([\n",
    "        [2 * T[i][j] if X[i][j] >= T[i][j] * degree[j] else 2 * T[i][j] - 1 for j in range(n)]\n",
    "    for i in range(n)])\n",
    "    return D"
   ]
  },
  {
   "cell_type": "code",
   "execution_count": 3,
   "metadata": {},
   "outputs": [
    {
     "name": "stdout",
     "output_type": "stream",
     "text": [
      "[[0 1 1 2 2 3]\n",
      " [1 0 1 2 2 3]\n",
      " [1 1 0 1 1 2]\n",
      " [2 2 1 0 1 2]\n",
      " [2 2 1 1 0 1]\n",
      " [3 3 2 2 1 0]]\n"
     ]
    }
   ],
   "source": [
    "A_connected = array([\n",
    "    [0, 1, 1, 0, 0, 0],\n",
    "    [1, 0, 1, 0, 0, 0],\n",
    "    [1, 1, 0, 1, 1, 0],\n",
    "    [0, 0, 1, 0, 1, 0],\n",
    "    [0, 0, 1, 1, 0, 1],\n",
    "    [0, 0, 0, 0, 1, 0]\n",
    "    ])\n",
    "print(apd(A_connected, 6))"
   ]
  },
  {
   "cell_type": "code",
   "execution_count": null,
   "metadata": {},
   "outputs": [],
   "source": [
    "A_disconnected = array([\n",
    "    [0, 1, 0, 0, 0, 0],\n",
    "    [1, 0, 0, 0, 0, 0],\n",
    "    [0, 0, 0, 0, 0, 0],\n",
    "    [0, 0, 0, 0, 0, 0],\n",
    "    [0, 0, 0, 0, 0, 1],\n",
    "    [0, 0, 0, 0, 0, 0]\n",
    "    ])"
   ]
  }
 ],
 "metadata": {
  "kernelspec": {
   "display_name": "Python 3",
   "language": "python",
   "name": "python3"
  },
  "language_info": {
   "codemirror_mode": {
    "name": "ipython",
    "version": 3
   },
   "file_extension": ".py",
   "mimetype": "text/x-python",
   "name": "python",
   "nbconvert_exporter": "python",
   "pygments_lexer": "ipython3",
   "version": "3.7.6"
  }
 },
 "nbformat": 4,
 "nbformat_minor": 4
}
